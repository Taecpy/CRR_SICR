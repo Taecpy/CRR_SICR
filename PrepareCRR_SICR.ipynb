{
 "cells": [
  {
   "cell_type": "code",
   "execution_count": 10,
   "metadata": {},
   "outputs": [],
   "source": [
    "import os\n",
    "import pandas as pd\n",
    "import glob"
   ]
  },
  {
   "cell_type": "code",
   "execution_count": 9,
   "metadata": {},
   "outputs": [
    {
     "name": "stdout",
     "output_type": "stream",
     "text": [
      "Collecting openpyxl\n",
      "  Downloading openpyxl-3.1.2-py2.py3-none-any.whl (249 kB)\n",
      "     -------------------------------------- 250.0/250.0 kB 5.1 MB/s eta 0:00:00\n",
      "Collecting et-xmlfile (from openpyxl)\n",
      "  Downloading et_xmlfile-1.1.0-py3-none-any.whl (4.7 kB)\n",
      "Installing collected packages: et-xmlfile, openpyxl\n",
      "Successfully installed et-xmlfile-1.1.0 openpyxl-3.1.2\n",
      "Note: you may need to restart the kernel to use updated packages.\n"
     ]
    },
    {
     "name": "stderr",
     "output_type": "stream",
     "text": [
      "\n",
      "[notice] A new release of pip is available: 23.1.2 -> 23.3.1\n",
      "[notice] To update, run: python.exe -m pip install --upgrade pip\n"
     ]
    }
   ],
   "source": [
    "# pip install openpyxl"
   ]
  },
  {
   "cell_type": "markdown",
   "metadata": {},
   "source": [
    "### Path"
   ]
  },
  {
   "cell_type": "code",
   "execution_count": 11,
   "metadata": {},
   "outputs": [],
   "source": [
    "path_1 = 'SME1//'\n",
    "path_2 = 'SME2//'\n",
    "path_3 = 'SME3//'\n",
    "# path_c1 = 'SME3//'\n",
    "# path_c2 = 'SME3//'\n",
    "all_path = ['SME1//','SME2//','SME3//']"
   ]
  },
  {
   "cell_type": "markdown",
   "metadata": {},
   "source": [
    "### backup"
   ]
  },
  {
   "cell_type": "code",
   "execution_count": 12,
   "metadata": {},
   "outputs": [
    {
     "data": {
      "text/plain": [
       "'test loop'"
      ]
     },
     "execution_count": 12,
     "metadata": {},
     "output_type": "execute_result"
    }
   ],
   "source": [
    "# ML_infra = pd.concat(a, ignore_index=True)\n",
    "# ML_infra.dropna(how='all',inplace=True)\n",
    "# ML_infra.reset_index(inplace=True,drop=True)\n",
    "# ML_commu = pd.concat(b, ignore_index=True)\n",
    "# ML_commu.dropna(how='all',inplace=True)\n",
    "# ML_commu.reset_index(inplace=True,drop=True)\n",
    "# ML_energy = pd.concat(c, ignore_index=True)\n",
    "# ML_energy.dropna(how='all',inplace=True)\n",
    "# ML_energy.reset_index(inplace=True,drop=True)                               \n",
    "# ML_Serv = pd.concat(d, ignore_index=True)\n",
    "# ML_Serv.dropna(how='all',inplace=True)\n",
    "# ML_Serv.reset_index(inplace=True,drop=True) \n",
    "# ML_indust = pd.concat(e, ignore_index=True)\n",
    "# ML_indust.dropna(how='all',inplace=True)\n",
    "# ML_indust.reset_index(inplace=True,drop=True) \n",
    "# ML_Commerce = pd.concat(f, ignore_index=True)\n",
    "# ML_Commerce.dropna(how='all',inplace=True)\n",
    "# ML_Commerce.reset_index(inplace=True,drop=True) \n",
    "# PropertyIn = pd.concat(g, ignore_index=True)\n",
    "# PropertyIn.dropna(how='all',inplace=True)\n",
    "# PropertyIn.reset_index(inplace=True,drop=True) \n",
    "# PropertyDe = pd.concat(h, ignore_index=True)\n",
    "# PropertyDe.dropna(how='all',inplace=True)\n",
    "# PropertyDe.reset_index(inplace=True,drop=True)\n",
    "# Hire = pd.concat(i, ignore_index=True)\n",
    "# Hire.dropna(how='all',inplace=True)\n",
    "# Hire.reset_index(inplace=True,drop=True) \n",
    "# operat = pd.concat(j, ignore_index=True)\n",
    "# operat.dropna(how='all',inplace=True)\n",
    "# operat.reset_index(inplace=True,drop=True) \n",
    "# S_serv = pd.concat(k, ignore_index=True)\n",
    "# S_serv.dropna(how='all',inplace=True)\n",
    "# S_serv.reset_index(inplace=True,drop=True)\n",
    "# S_Commerce = pd.concat(l, ignore_index=True)\n",
    "# S_Commerce.dropna(how='all',inplace=True)\n",
    "# S_Commerce.reset_index(inplace=True,drop=True) \n",
    "# S_indust = pd.concat(m, ignore_index=True)\n",
    "# S_indust.dropna(how='all',inplace=True)\n",
    "# S_indust.reset_index(inplace=True,drop=True) \n",
    "\n",
    "'''test loop'''\n",
    "# for i_p in all_path:\n",
    "#     filenames = glob.glob(i_p + \"/*.xlsx\")\n",
    "#     filenames\n",
    "#     # for loop fine name excel_sheets \n",
    "#     for i_f in filenames:\n",
    "#         xl = pd.ExcelFile(i_f)\n",
    "#         xl.sheet_names\n",
    "#     # for loop read file and concat all file\n",
    "#         for i_s in  xl.sheet_names :\n",
    "#             print(i_p,i_f,i_s)"
   ]
  },
  {
   "cell_type": "markdown",
   "metadata": {},
   "source": [
    "### Loop read file"
   ]
  },
  {
   "cell_type": "code",
   "execution_count": 36,
   "metadata": {},
   "outputs": [],
   "source": [
    "# mutiple list in one line\n",
    "# list_a, list_b = [], []\n",
    "a ,b ,c ,d ,e ,f ,g ,h ,i ,j ,k ,l ,m = [], [], [], [], [], [], [], [], [], [], [], [], []\n",
    "# find data in path\n",
    "for i_p in all_path:\n",
    "    filenames = glob.glob(i_p + \"/*.xlsx\")\n",
    "    filenames\n",
    "    # for loop find name excel_sheets \n",
    "    for i_f in filenames:\n",
    "        xl = pd.ExcelFile(i_f)\n",
    "        xl.sheet_names\n",
    "    # for loop read file and concat all file\n",
    "        for i_s in  xl.sheet_names:\n",
    "            # M & L Infrastructure sheets\n",
    "            if (i_s == 'M & L Infrastructure'):\n",
    "                # print(i_s,i_f)\n",
    "                a.append(pd.read_excel(i_f,sheet_name=i_s,usecols='A:Al'))                \n",
    "            # M & L Communication sheets\n",
    "            if (i_s == 'M & L Communication'):\n",
    "                b.append(pd.read_excel(i_f,sheet_name=i_s,usecols='A:Al'))      \n",
    "            # M & L Energy sheets\n",
    "            if (i_s == 'M & L Energy'):\n",
    "                c.append(pd.read_excel(i_f,sheet_name=i_s,usecols='A:Al'))                \n",
    "            # M & L Services sheets\n",
    "            if (i_s == 'M & L Services'):\n",
    "                d.append(pd.read_excel(i_f,sheet_name=i_s,usecols='A:Al'))  \n",
    "            # M & L industries sheets\n",
    "            if (i_s == 'M & L industries'):\n",
    "                e.append(pd.read_excel(i_f,sheet_name=i_s,usecols='A:Al')) \n",
    "            # M & L Commerce sheets    \n",
    "            if (i_s == 'M & L Commerce'):\n",
    "                f.append(pd.read_excel(i_f,sheet_name=i_s,usecols='A:Al')) \n",
    "            # Property Investment sheets    \n",
    "            if (i_s == 'Property Investment'):\n",
    "                g.append(pd.read_excel(i_f,sheet_name=i_s,usecols='A:AH')) \n",
    "            # Property Development sheets \n",
    "            if (i_s == 'Property Development'):\n",
    "                h.append(pd.read_excel(i_f,sheet_name=i_s,usecols='A:AH')) \n",
    "            # Hire purchase sheets \n",
    "            if (i_s == 'Hire purchase'):\n",
    "                i.append(pd.read_excel(i_f,sheet_name=i_s,usecols='A:Al')) \n",
    "            # Co-operatives sheets \n",
    "            if (i_s == 'Co-operatives'):\n",
    "                j.append(pd.read_excel(i_f,sheet_name=i_s,usecols='A:AD')) \n",
    "            # S services sheets \n",
    "            if (i_s == 'S services'):\n",
    "                k.append(pd.read_excel(i_f,sheet_name=i_s,usecols='A:AC')) \n",
    "            # S Commerce sheets\n",
    "            if (i_s == 'S Commerce'):\n",
    "                l.append(pd.read_excel(i_f,sheet_name=i_s,usecols='A:AC')) \n",
    "            # S industries sheets\n",
    "            if (i_s == ' S industries'):\n",
    "                m.append(pd.read_excel(i_f,sheet_name=i_s,usecols='A:AC')) \n",
    "# Concatenate all data into one DataFrame\n",
    "'''fix '''\n",
    "list_df = [a ,b ,c ,d ,e ,f ,g ,h ,i ,j ,k ,l ,m]\n",
    "list_tool = ['ML_infra','ML_commu','ML_energy','ML_Serv','ML_indust','ML_Commerce','PropertyIn'\n",
    "             ,'PropertyDe','Hire','operat','S_serv','S_Commerce','S_indust']\n",
    "# ML_infra,ML_commu,ML_energy,ML_Serv,ML_indust,ML_Commerce,PropertyIn,PropertyDe,Hire,operat,S_serv,S_Commerce,S_indust =  pd.concat([a] ,[b] ,[c] ,[d] ,[e] ,[f ],[g] ,[h] ,[i ],[j] ,[k ],[l] ,[m],ignore_index=True)\n",
    "# def to_Fdata(tool,df):\n",
    "#     for (i_1,i_2) in zip(tool,list_df) :\n",
    "#         i_1 = pd.concat(i_2, ignore_index=True)\n",
    "#         i_1.dropna(how='all',inplace=True)\n",
    "#         i_1.reset_index(inplace=True,drop=True) \n",
    "#         return i_1"
   ]
  },
  {
   "cell_type": "code",
   "execution_count": 43,
   "metadata": {},
   "outputs": [],
   "source": [
    "def to_Fdata(df):\n",
    "    for i_1 in list_df :\n",
    "        i_1 = pd.concat(i_1, ignore_index=True)\n",
    "        i_1.dropna(how='all',inplace=True)\n",
    "        i_1.reset_index(inplace=True,drop=True) \n",
    "        return i_1"
   ]
  }
 ],
 "metadata": {
  "kernelspec": {
   "display_name": "base",
   "language": "python",
   "name": "python3"
  },
  "language_info": {
   "codemirror_mode": {
    "name": "ipython",
    "version": 3
   },
   "file_extension": ".py",
   "mimetype": "text/x-python",
   "name": "python",
   "nbconvert_exporter": "python",
   "pygments_lexer": "ipython3",
   "version": "3.10.4"
  }
 },
 "nbformat": 4,
 "nbformat_minor": 2
}
