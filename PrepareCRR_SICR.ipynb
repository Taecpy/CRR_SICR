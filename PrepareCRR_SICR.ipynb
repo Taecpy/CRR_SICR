{
 "cells": [
  {
   "cell_type": "code",
   "execution_count": 1,
   "metadata": {},
   "outputs": [],
   "source": [
    "import os\n",
    "import pandas as pd\n",
    "import glob\n",
    "# pip install openpyxl"
   ]
  },
  {
   "cell_type": "markdown",
   "metadata": {},
   "source": [
    "### Path"
   ]
  },
  {
   "cell_type": "code",
   "execution_count": 2,
   "metadata": {},
   "outputs": [],
   "source": [
    "path_1 = 'SME1//'\n",
    "path_2 = 'SME2//'\n",
    "path_3 = 'SME3//'\n",
    "output = 'Output//'\n",
    "# path_c1 = 'SME3//'\n",
    "# path_c2 = 'SME3//'\n",
    "all_path = [path_1,path_2,path_3]"
   ]
  },
  {
   "cell_type": "code",
   "execution_count": 9,
   "metadata": {},
   "outputs": [],
   "source": [
    "# example os.path.join\n",
    "# path = os.path.join(\"user\", \"admin\", \"data\", \"demo.txt\")\n",
    "# print(path)"
   ]
  },
  {
   "cell_type": "markdown",
   "metadata": {},
   "source": [
    "### backup"
   ]
  },
  {
   "cell_type": "code",
   "execution_count": 4,
   "metadata": {},
   "outputs": [
    {
     "data": {
      "text/plain": [
       "'example Class'"
      ]
     },
     "execution_count": 4,
     "metadata": {},
     "output_type": "execute_result"
    }
   ],
   "source": [
    "# ML_infra = pd.concat(a, ignore_index=True)\n",
    "# ML_infra.dropna(how='all',inplace=True)\n",
    "# ML_infra.reset_index(inplace=True,drop=True)\n",
    "# ML_commu = pd.concat(b, ignore_index=True)\n",
    "# ML_commu.dropna(how='all',inplace=True)\n",
    "# ML_commu.reset_index(inplace=True,drop=True)\n",
    "# ML_energy = pd.concat(c, ignore_index=True)\n",
    "# ML_energy.dropna(how='all',inplace=True)\n",
    "# ML_energy.reset_index(inplace=True,drop=True)                               \n",
    "# ML_Serv = pd.concat(d, ignore_index=True)\n",
    "# ML_Serv.dropna(how='all',inplace=True)\n",
    "# ML_Serv.reset_index(inplace=True,drop=True) \n",
    "# ML_indust = pd.concat(e, ignore_index=True)\n",
    "# ML_indust.dropna(how='all',inplace=True)\n",
    "# ML_indust.reset_index(inplace=True,drop=True) \n",
    "# ML_Commerce = pd.concat(f, ignore_index=True)\n",
    "# ML_Commerce.dropna(how='all',inplace=True)\n",
    "# ML_Commerce.reset_index(inplace=True,drop=True) \n",
    "# PropertyIn = pd.concat(g, ignore_index=True)\n",
    "# PropertyIn.dropna(how='all',inplace=True)\n",
    "# PropertyIn.reset_index(inplace=True,drop=True) \n",
    "# PropertyDe = pd.concat(h, ignore_index=True)\n",
    "# PropertyDe.dropna(how='all',inplace=True)\n",
    "# PropertyDe.reset_index(inplace=True,drop=True)\n",
    "# Hire = pd.concat(i, ignore_index=True)\n",
    "# Hire.dropna(how='all',inplace=True)\n",
    "# Hire.reset_index(inplace=True,drop=True) \n",
    "# operat = pd.concat(j, ignore_index=True)\n",
    "# operat.dropna(how='all',inplace=True)\n",
    "# operat.reset_index(inplace=True,drop=True) \n",
    "# S_serv = pd.concat(k, ignore_index=True)\n",
    "# S_serv.dropna(how='all',inplace=True)\n",
    "# S_serv.reset_index(inplace=True,drop=True)\n",
    "# S_Commerce = pd.concat(l, ignore_index=True)\n",
    "# S_Commerce.dropna(how='all',inplace=True)\n",
    "# S_Commerce.reset_index(inplace=True,drop=True) \n",
    "# S_indust = pd.concat(m, ignore_index=True)\n",
    "# S_indust.dropna(how='all',inplace=True)\n",
    "# S_indust.reset_index(inplace=True,drop=True) \n",
    "\n",
    "'''test loop'''\n",
    "# for i_p in all_path:\n",
    "#     filenames = glob.glob(i_p + \"/*.xlsx\")\n",
    "#     filenames\n",
    "#     # for loop fine name excel_sheets \n",
    "#     for i_f in filenames:\n",
    "#         xl = pd.ExcelFile(i_f)\n",
    "#         xl.sheet_names\n",
    "#     # for loop read file and concat all file\n",
    "#         for i_s in  xl.sheet_names :\n",
    "#             print(i_p,i_f,i_s)\n",
    "\n",
    "'''example Class'''\n",
    "# class ReturnValue(obj):\n",
    "#        def __init__(self, y0, y1, y2):\n",
    "#       self.y0 = y0\n",
    "#       self.y1 = y1\n",
    "#       self.y2 = y2\n",
    "\n",
    "# def g(x):\n",
    "#    y0 = x + 1\n",
    "#    y1 = x * 3\n",
    "#    y2 = y0 ** 3\n",
    "#    return ReturnValue (y0, y1, y2)\n",
    "\n",
    "'''mutiple valiable in one loop'''\n",
    "# ML_infra,ML_commu,ML_energy,ML_Serv,ML_indust,ML_Commerce,PropertyIn,PropertyDe,Hire,operat,S_serv,S_Commerce,S_indust =  pd.concat([a] ,[b] ,[c] ,[d] ,[e] ,[f ],[g] ,[h] ,[i ],[j] ,[k ],[l] ,[m],ignore_index=True)\n",
    "# def to_Fdata(tool,df):\n",
    "#     for (i_1,i_2) in zip(tool,list_df) :\n",
    "#         i_1 = pd.concat(i_2, ignore_index=True)\n",
    "#         i_1.dropna(how='all',inplace=True)\n",
    "#         i_1.reset_index(inplace=True,drop=True) \n",
    "#         return i_1\n",
    "\n"
   ]
  },
  {
   "cell_type": "markdown",
   "metadata": {},
   "source": [
    "### Loop read file"
   ]
  },
  {
   "cell_type": "code",
   "execution_count": 8,
   "metadata": {},
   "outputs": [],
   "source": [
    "#ใช้ทำข้อมูล\n",
    "# find data in path\n",
    "def prepare_fileCRR(path):\n",
    "    # mutiple list in one line\n",
    "    # list_a, list_b = [], []\n",
    "    a ,b ,c ,d ,e ,f ,g ,h ,i ,j ,k ,l ,m = [], [], [], [], [], [], [], [], [], [], [], [], []\n",
    "    for i_p in path:\n",
    "        filenames = glob.glob(i_p + \"/*.xlsx\")\n",
    "        filenames\n",
    "        # for loop find name excel_sheets \n",
    "        for i_f in filenames:\n",
    "            xl = pd.ExcelFile(i_f)\n",
    "            xl.sheet_names\n",
    "        # for loop read file and concat all file\n",
    "            for i_s in  xl.sheet_names:\n",
    "                # M & L Infrastructure sheets\n",
    "                if (i_s == 'M & L Infrastructure'):\n",
    "                    # print(i_s,i_f)\n",
    "                    a.append(pd.read_excel(i_f,sheet_name=i_s,usecols='A:Al'))                \n",
    "                # M & L Communication sheets\n",
    "                if (i_s == 'M & L Communication'):\n",
    "                    b.append(pd.read_excel(i_f,sheet_name=i_s,usecols='A:Al'))      \n",
    "                # M & L Energy sheets\n",
    "                if (i_s == 'M & L Energy'):\n",
    "                    c.append(pd.read_excel(i_f,sheet_name=i_s,usecols='A:Al'))                \n",
    "                # M & L Services sheets\n",
    "                if (i_s == 'M & L Services'):\n",
    "                    d.append(pd.read_excel(i_f,sheet_name=i_s,usecols='A:Al'))  \n",
    "                # M & L industries sheets\n",
    "                if (i_s == 'M & L industries'):\n",
    "                    e.append(pd.read_excel(i_f,sheet_name=i_s,usecols='A:Al')) \n",
    "                # M & L Commerce sheets    \n",
    "                if (i_s == 'M & L Commerce'):\n",
    "                    f.append(pd.read_excel(i_f,sheet_name=i_s,usecols='A:Al')) \n",
    "                # Property Investment sheets    \n",
    "                if (i_s == 'Property Investment'):\n",
    "                    g.append(pd.read_excel(i_f,sheet_name=i_s,usecols='A:AH')) \n",
    "                # Property Development sheets \n",
    "                if (i_s == 'Property Development'):\n",
    "                    h.append(pd.read_excel(i_f,sheet_name=i_s,usecols='A:AH')) \n",
    "                # Hire purchase sheets \n",
    "                if (i_s == 'Hire purchase'):\n",
    "                    i.append(pd.read_excel(i_f,sheet_name=i_s,usecols='A:Al')) \n",
    "                # Co-operatives sheets \n",
    "                if (i_s == 'Co-operatives'):\n",
    "                    j.append(pd.read_excel(i_f,sheet_name=i_s,usecols='A:AD')) \n",
    "                # S services sheets \n",
    "                if (i_s == 'S services'):\n",
    "                    k.append(pd.read_excel(i_f,sheet_name=i_s,usecols='A:AC')) \n",
    "                # S Commerce sheets\n",
    "                if (i_s == 'S Commerce'):\n",
    "                    l.append(pd.read_excel(i_f,sheet_name=i_s,usecols='A:AC')) \n",
    "                # S industries sheets\n",
    "                if (i_s == ' S industries'):\n",
    "                    m.append(pd.read_excel(i_f,sheet_name=i_s,usecols='A:AC')) \n",
    "    # Concatenate all data into one DataFrame\n",
    "    list_df = [a ,b ,c ,d ,e ,f ,g ,h ,i ,j ,k ,l ,m]\n",
    "    list_F = []\n",
    "    # for (i_x,i_y) in zip(list_df,list_T) :\n",
    "    for i_x in list_df:\n",
    "        i_x = pd.concat(i_x, ignore_index=True)\n",
    "        i_x.dropna(how='all',inplace=True)\n",
    "        i_x.reset_index(inplace=True,drop=True) \n",
    "        list_F.append(i_x)\n",
    "    list_F = tuple(list_F) \n",
    "    return list_F\n",
    "\n",
    "### for tag customer review CRR\n",
    "# add year follow requirement\n",
    "def check_fileCRR(path,year):\n",
    "    print('check start')\n",
    "    a = []\n",
    "    for i_p in path:\n",
    "        filenames = glob.glob(i_p + \"/*.xlsx\")\n",
    "        filenames\n",
    "        # for loop find name excel_sheets \n",
    "        for i_f in filenames:\n",
    "            if year in i_f :\n",
    "                xl = pd.ExcelFile(i_f)\n",
    "                xl.sheet_names\n",
    "                for i_s in  xl.sheet_names:\n",
    "                 a.append(pd.read_excel(i_f,sheet_name=i_s,usecols=['เลขที่ CIF', 'วันที่ประเมิน', 'Grade']))\n",
    "                # เเก้ columns\n",
    "                #  a.append(pd.read_excel(i_f,sheet_name=i_s,usecols=['บุคคล/นิติบุคคลที่ถูกประเมิน','เลขที่ CIF', 'วันที่ประเมิน', 'Grade']))     \n",
    "    ### add concat file\n",
    "    a = pd.concat(a)  \n",
    "    a.drop_duplicates(subset=['เลขที่ CIF' ,'วันที่ประเมิน' ,'Grade'],inplace=True)\n",
    "    a[['การจัดส่ง']] = 'ส่งเเล้ว'    \n",
    "    for i_c in a.columns:\n",
    "        a[i_c] = a[i_c].apply(lambda x: str(x).replace(u'\\xa0', u''))\n",
    "        print('check complete')\n",
    "    return a\n",
    "\n",
    "def export_file(file,Name):\n",
    "        file.to_csv(output+'{}.csv'.format(Name),index=False ,encoding='TIS-620')\n",
    "        print('export complete')\n",
    "        return file"
   ]
  },
  {
   "cell_type": "code",
   "execution_count": 9,
   "metadata": {},
   "outputs": [
    {
     "name": "stdout",
     "output_type": "stream",
     "text": [
      "export complete\n"
     ]
    },
    {
     "data": {
      "text/plain": [
       "'for prepare sicr'"
      ]
     },
     "execution_count": 9,
     "metadata": {},
     "output_type": "execute_result"
    }
   ],
   "source": [
    "'''for tracking review CRR'''\n",
    "file_2563 = check_fileCRR(all_path,'2563')\n",
    "file_2564 = check_fileCRR(all_path,'2564')\n",
    "file_2565 = check_fileCRR(all_path,'2565')\n",
    "#for export file\n",
    "# export_file(file_2563,'file_2563')\n",
    "# export_file(file_2564,'file_2564')\n",
    "# export_file(file_2565,'file_2565')\n",
    "'''for prepare sicr'''\n",
    "# (ML_infra,ML_commu,ML_energy,ML_Serv,ML_indust,ML_Commerce,PropertyIn,PropertyDe,Hire,operat,S_serv,S_Commerce,S_indust) = prepare_fileCRR(all_path)"
   ]
  }
 ],
 "metadata": {
  "kernelspec": {
   "display_name": "base",
   "language": "python",
   "name": "python3"
  },
  "language_info": {
   "codemirror_mode": {
    "name": "ipython",
    "version": 3
   },
   "file_extension": ".py",
   "mimetype": "text/x-python",
   "name": "python",
   "nbconvert_exporter": "python",
   "pygments_lexer": "ipython3",
   "version": "3.8.5"
  }
 },
 "nbformat": 4,
 "nbformat_minor": 2
}
